{
 "cells": [
  {
   "attachments": {},
   "cell_type": "markdown",
   "metadata": {},
   "source": [
    "# Overview\n",
    "\n",
    "This notebook handles creating state-specific data for 2020 precinct geogrpahic data, 2020 US House of Representative election data, and 2020 Census population estimates. While the exact steps for each state vary, the overall scheme is that the precinct data is collected from the [Redistricting Data Hub](https://redistrictingdatahub.org/) (RDH), voting data is collected is from either RDH or [Voting and Elections Science Team](https://dataverse.harvard.edu/dataverse/electionscience), and the population is gathered from the [Census Bureau](https://www.census.gov/cgi-bin/geo/shapefiles/index.php?year=2022&layergroup=Blocks+%282020%29).\n",
    "\n",
    "The general process is:\n",
    "1. Load in the precinct shapefile\n",
    "2. Change the projection to an applicable (ftUS) projection based on state\n",
    "3. Prepare the House of Representatives Voting Data By:\n",
    "   1. If the House Voting data is already attached to the precinct shapefile, aggregate it to Democract/Republican totals per precinct\n",
    "   2. If not load ,in the voting data from another file and aggregate the House Votes and attempt to join the data by using a combination of the metadata available\n",
    "   3. If the latter, there may be some data cleaning and manual work required to merge the datasets, such as creating a concatenation of columns or using a self-created crosswalk, aggregating precincts in the voting data, etc.\n",
    "4. Load in the Census Block  and project it to the correspoding projection above\n",
    "5. Use [MGGG](https://github.com/mggg/maup)'s `maup` package to assign blocks to precincts and aggregate (sum) by assignment\n",
    "6. Plot out a fitline between population and vote count to observe any oddities\n",
    "7. Write out data to disk\n",
    "\n",
    "Not every state has been completed due to issues in trying to connect the precinct and voting data and additionally assumptions were made when joining the data (either programmatically or manually) that may not be correct which could result in precincts being assigned the wrong votes or population counts. There is also a concern that the underlying data may not be entirely accurate and could cause deviations from reveal life numbers. \n",
    "\n",
    "Originally, the plan was to incorporate 2022 data but it became an intractable option as there have been new voting precincts and voting data that either don't align correctly with existing data or that data is not readily available for use. "
   ]
  },
  {
   "attachments": {},
   "cell_type": "markdown",
   "metadata": {},
   "source": [
    "# Data Table\n",
    "\n",
    "This table records what data is available as of March 2023 and at what level.\n",
    "\n",
    "| State | Districts | VEST/MEDSL 2020 | MEDSL2022 | RDH 2020 | RDH 2022 | Completed |\n",
    "| --- | --- | --- | --- | --- | --- | --- |\n",
    "| Alabama | | House | House | House | | \n",
    "| Alaska | | House | House | Pres | | \n",
    "| Arizona | | House |  | House | | |\n",
    "| Arkansas | | House |  |  Pres | | \n",
    "| California | | House |  | Pres | | \n",
    "| Colorado | | House |  | Pres | | \n",
    "| Connecticut | | House |  | Pres | | \n",
    "| Delaware | | House |  | Pres | | \n",
    "| District of Columbia | | House | House | |\n",
    "| Florida | | House | House | House | | |\n",
    "| Georgia | | House | House | House | House-Vote | |\n",
    "| Hawaii | | House | House | Pres |  | |\n",
    "| Idaho | | House | House | Pres | | |\n",
    "| Illinois | | House |  | Pres | | |\n",
    "| Indiana | | House | House | Pres | | |\n",
    "| Iowa | | House | House | Pres | | |\n",
    "| Kansas | | House | House | Pres | | |\n",
    "| Kentucky | | House | House | Pres | | \n",
    "| Louisiana | | House | House | Pres | House | \n",
    "| Maine | | House | House | Pres | | |\n",
    "| Maryland | | House | House | Pres | | |\n",
    "| Massachusetts | | House | House | Pres | | |\n",
    "| Michigan | | House | House | House | | \n",
    "| Minnesota | | House | House | Pres | | \n",
    "| Mississippi | | House | House | House | | |\n",
    "| Missouri | | House |  | Pres | | |\n",
    "| Montana | | House |  | Pres | | |\n",
    "| Nebraska | | House |  | Pres | | |\n",
    "| Nevada | | House | House | Pres | | \n",
    "| New Hampshire | | House | House | Pres | | Yes |\n",
    "| New Jersey | | House | House | Pres | | \n",
    "| New Mexico | | House | House | Pres | | |\n",
    "| New York | | House |  | Pres | | \n",
    "| North Carolina | | House | House | House | | |\n",
    "| North Dakota | |  | House | Pres | | |\n",
    "| Ohio | | House | House | House | House-Vote | |\n",
    "| Oklahoma | | House | House | Pres | | |\n",
    "| Oregon | | House | | Pres | | |\n",
    "| Pennsylvania | | House | | House | | \n",
    "| Rhode Island | | House | House | Pres | | |\n",
    "| South Carolina | | House | House | Pres | | |\n",
    "| South Dakota | | House | House | Pres | | |\n",
    "| Tennesse | | House | House | Pres | | |\n",
    "| Texas | | House |  | Pres | | |\n",
    "| Utah | | House |  | Pres | | |\n",
    "| Vermont | | House | House | Pres | | |\n",
    "| Virginia | | House | House | House | | |\n",
    "| Washington | | House | House | Pres | | |\n",
    "| West Virginia | | House | House | Pres | | \n",
    "| Wisconsin | | House |  | House | | |\n",
    "| Wyoming | | House | House | Pres | | |"
   ]
  },
  {
   "attachments": {},
   "cell_type": "markdown",
   "metadata": {},
   "source": [
    "# Packages and User Functions"
   ]
  },
  {
   "cell_type": "code",
   "execution_count": 16,
   "metadata": {},
   "outputs": [],
   "source": [
    "import os\n",
    "import re\n",
    "import math\n",
    "import matplotlib.pyplot as plt\n",
    "import warnings\n",
    "\n",
    "import numpy as np\n",
    "import scipy\n",
    "import shapely  # must be >=1.8.0\n",
    "from shapely.errors import ShapelyDeprecationWarning\n",
    "from shapely.geometry import Polygon, MultiPolygon, shape, Point, GeometryCollection\n",
    "\n",
    "warnings.filterwarnings(\"ignore\", category=ShapelyDeprecationWarning)\n",
    "\n",
    "import pandas as pd\n",
    "import geopandas as gpd\n",
    "\n",
    "gpd.options.use_pygeos = False\n",
    "\n",
    "import maup"
   ]
  },
  {
   "cell_type": "code",
   "execution_count": 17,
   "metadata": {},
   "outputs": [],
   "source": [
    "def create_fitline(x, y):\n",
    "    \"\"\"\n",
    "    Learns a linear regression and prints out the fitline, mainly to observe the correlation between population and vote counts.\n",
    "    \"\"\"\n",
    "    # y = m + bx\n",
    "    xlim = (min(x), max(x))\n",
    "    res = scipy.stats.linregress(x, y)\n",
    "    print(f\"R-squared: {res.rvalue**2:.6f}\")\n",
    "\n",
    "    plot_x = np.linspace(start=xlim[0], stop=xlim[1], num=3)\n",
    "    plt.scatter(x, y, s=2, label=\"original data\")\n",
    "    plt.plot(plot_x, res.intercept + res.slope * plot_x, \"r\", label=\"fitted line\")\n",
    "    plt.legend()\n",
    "    plt.show()\n",
    "\n",
    "\n",
    "def sum_cols(x, cols):\n",
    "    \"\"\"\n",
    "    Sum values across a provided list of columns.\n",
    "    \"\"\"\n",
    "    sum_ = 0\n",
    "    for c in cols:\n",
    "        sum_ += x[c]\n",
    "    return sum_\n",
    "\n",
    "\n",
    "def convert_3D_2D(x):\n",
    "    \"\"\"\n",
    "    Takes a GeoSeries of 3D Multi/Polygons (has_z) and returns a list of 2D Multi/Polygons\n",
    "    \"\"\"\n",
    "    return shapely.validation.make_valid(\n",
    "        shapely.wkb.loads(shapely.wkb.dumps(x, output_dimension=2))\n",
    "    )\n",
    "\n",
    "\n",
    "def remove_geom_collections(x):\n",
    "    \"\"\"\n",
    "    Geopandas errors on writing out mixed (Polygon/MultiPolygon and GeometryCollection) geometric types.\n",
    "    The 3D --> 2D function can introduce GeometryCollections and so this function takes the first item within the collection.\n",
    "    \"\"\"\n",
    "\n",
    "    if type(x) == GeometryCollection:\n",
    "        return x.geoms[0]\n",
    "    else:\n",
    "        return x"
   ]
  },
  {
   "attachments": {},
   "cell_type": "markdown",
   "metadata": {},
   "source": [
    "# States"
   ]
  },
  {
   "cell_type": "code",
   "execution_count": 65,
   "metadata": {},
   "outputs": [],
   "source": [
    "state_dict = {\n",
    "    \"GA\": {\"CRS\": \"EPSG:2240\"},\n",
    "    \"MD\": {\"CRS\": \"EPSG:2248\"},\n",
    "    \"NH\": {\"CRS\": \"EPSG:3437\"},\n",
    "    \"OH\": {\"CRS\": \"EPSG:2834\"},\n",
    "}"
   ]
  },
  {
   "attachments": {},
   "cell_type": "markdown",
   "metadata": {},
   "source": [
    "## Alabama"
   ]
  },
  {
   "attachments": {},
   "cell_type": "markdown",
   "metadata": {},
   "source": []
  },
  {
   "attachments": {},
   "cell_type": "markdown",
   "metadata": {},
   "source": [
    "## Alaska"
   ]
  },
  {
   "attachments": {},
   "cell_type": "markdown",
   "metadata": {},
   "source": []
  },
  {
   "attachments": {},
   "cell_type": "markdown",
   "metadata": {},
   "source": [
    "## Arizona"
   ]
  },
  {
   "attachments": {},
   "cell_type": "markdown",
   "metadata": {},
   "source": []
  },
  {
   "attachments": {},
   "cell_type": "markdown",
   "metadata": {},
   "source": [
    "## Arkansas"
   ]
  },
  {
   "attachments": {},
   "cell_type": "markdown",
   "metadata": {},
   "source": []
  },
  {
   "attachments": {},
   "cell_type": "markdown",
   "metadata": {},
   "source": [
    "## California"
   ]
  },
  {
   "attachments": {},
   "cell_type": "markdown",
   "metadata": {},
   "source": []
  },
  {
   "attachments": {},
   "cell_type": "markdown",
   "metadata": {},
   "source": [
    "## Colorado"
   ]
  },
  {
   "attachments": {},
   "cell_type": "markdown",
   "metadata": {},
   "source": []
  },
  {
   "attachments": {},
   "cell_type": "markdown",
   "metadata": {},
   "source": [
    "## Connecticut"
   ]
  },
  {
   "attachments": {},
   "cell_type": "markdown",
   "metadata": {},
   "source": []
  },
  {
   "attachments": {},
   "cell_type": "markdown",
   "metadata": {},
   "source": [
    "## Delaware"
   ]
  },
  {
   "attachments": {},
   "cell_type": "markdown",
   "metadata": {},
   "source": []
  },
  {
   "attachments": {},
   "cell_type": "markdown",
   "metadata": {},
   "source": [
    "## Florida"
   ]
  },
  {
   "attachments": {},
   "cell_type": "markdown",
   "metadata": {},
   "source": []
  },
  {
   "attachments": {},
   "cell_type": "markdown",
   "metadata": {},
   "source": [
    "## Georgia"
   ]
  },
  {
   "cell_type": "code",
   "execution_count": 30,
   "metadata": {},
   "outputs": [
    {
     "data": {
      "text/html": [
       "<div>\n",
       "<style scoped>\n",
       "    .dataframe tbody tr th:only-of-type {\n",
       "        vertical-align: middle;\n",
       "    }\n",
       "\n",
       "    .dataframe tbody tr th {\n",
       "        vertical-align: top;\n",
       "    }\n",
       "\n",
       "    .dataframe thead th {\n",
       "        text-align: right;\n",
       "    }\n",
       "</style>\n",
       "<table border=\"1\" class=\"dataframe\">\n",
       "  <thead>\n",
       "    <tr style=\"text-align: right;\">\n",
       "      <th></th>\n",
       "      <th>UNIQUE_ID</th>\n",
       "      <th>COUNTYFP</th>\n",
       "      <th>DISTRICT</th>\n",
       "      <th>CTYSOSID</th>\n",
       "      <th>PRECINCT_I</th>\n",
       "      <th>PRECINCT_N</th>\n",
       "      <th>CTYNAME</th>\n",
       "      <th>CTYNUMBER</th>\n",
       "      <th>CTYNUMBER2</th>\n",
       "      <th>FIPS2</th>\n",
       "      <th>CONG_DIST</th>\n",
       "      <th>USH20_D</th>\n",
       "      <th>USH20_R</th>\n",
       "      <th>geometry</th>\n",
       "    </tr>\n",
       "  </thead>\n",
       "  <tbody>\n",
       "    <tr>\n",
       "      <th>1375</th>\n",
       "      <td>121-JC03A</td>\n",
       "      <td>121</td>\n",
       "      <td>121JC03A</td>\n",
       "      <td>121JC03A</td>\n",
       "      <td>JC03A</td>\n",
       "      <td>JC03A</td>\n",
       "      <td>FULTON</td>\n",
       "      <td>60</td>\n",
       "      <td>060</td>\n",
       "      <td>121</td>\n",
       "      <td>06</td>\n",
       "      <td>281</td>\n",
       "      <td>199</td>\n",
       "      <td>POLYGON ((2289710.240 1480035.744, 2289715.091...</td>\n",
       "    </tr>\n",
       "    <tr>\n",
       "      <th>1250</th>\n",
       "      <td>121-08P</td>\n",
       "      <td>121</td>\n",
       "      <td>12108P</td>\n",
       "      <td>12108P</td>\n",
       "      <td>08P</td>\n",
       "      <td>08P</td>\n",
       "      <td>FULTON</td>\n",
       "      <td>60</td>\n",
       "      <td>060</td>\n",
       "      <td>121</td>\n",
       "      <td>05</td>\n",
       "      <td>895</td>\n",
       "      <td>227</td>\n",
       "      <td>POLYGON ((2223363.068 1378199.439, 2223344.050...</td>\n",
       "    </tr>\n",
       "    <tr>\n",
       "      <th>24</th>\n",
       "      <td>009-EAST HARDWICK</td>\n",
       "      <td>009</td>\n",
       "      <td>009321E</td>\n",
       "      <td>009321E</td>\n",
       "      <td>321E</td>\n",
       "      <td>EAST HARDWICK</td>\n",
       "      <td>BALDWIN</td>\n",
       "      <td>5</td>\n",
       "      <td>005</td>\n",
       "      <td>009</td>\n",
       "      <td>10</td>\n",
       "      <td>497</td>\n",
       "      <td>141</td>\n",
       "      <td>MULTIPOLYGON (((2593559.280 1112338.090, 25935...</td>\n",
       "    </tr>\n",
       "  </tbody>\n",
       "</table>\n",
       "</div>"
      ],
      "text/plain": [
       "              UNIQUE_ID COUNTYFP  DISTRICT  CTYSOSID PRECINCT_I  \\\n",
       "1375          121-JC03A      121  121JC03A  121JC03A      JC03A   \n",
       "1250            121-08P      121    12108P    12108P        08P   \n",
       "24    009-EAST HARDWICK      009   009321E   009321E       321E   \n",
       "\n",
       "         PRECINCT_N  CTYNAME CTYNUMBER CTYNUMBER2 FIPS2 CONG_DIST  USH20_D  \\\n",
       "1375          JC03A   FULTON        60        060   121        06      281   \n",
       "1250            08P   FULTON        60        060   121        05      895   \n",
       "24    EAST HARDWICK  BALDWIN         5        005   009        10      497   \n",
       "\n",
       "      USH20_R                                           geometry  \n",
       "1375      199  POLYGON ((2289710.240 1480035.744, 2289715.091...  \n",
       "1250      227  POLYGON ((2223363.068 1378199.439, 2223344.050...  \n",
       "24        141  MULTIPOLYGON (((2593559.280 1112338.090, 25935...  "
      ]
     },
     "execution_count": 30,
     "metadata": {},
     "output_type": "execute_result"
    }
   ],
   "source": [
    "ga_2020 = gpd.read_file(\n",
    "    \"input/ga/ga_gen_20_prec/ga_gen_20_cong_prec.shp\"\n",
    ")  # https://redistrictingdatahub.org/dataset/georgia-2020-general-election-precinct-and-election-results-extended/\n",
    "ga_2020 = ga_2020.to_crs(state_dict[\"GA\"][\"CRS\"])\n",
    "ga_2020[\"geometry\"] = ga_2020[\"geometry\"].apply(shapely.validation.make_valid)\n",
    "ga_2020[\"geometry\"] = ga_2020[\"geometry\"].apply(convert_3D_2D)\n",
    "ga_2020[\"geometry\"] = ga_2020[\"geometry\"].apply(remove_geom_collections)\n",
    "\n",
    "dem_votes = [c for c in ga_2020.columns if bool(re.match(\"GCON[0-9][0-9]D\", c))]\n",
    "rep_votes = [c for c in ga_2020.columns if bool(re.match(\"GCON[0-9][0-9]R\", c))]\n",
    "\n",
    "ga_2020[\"USH20_D\"] = ga_2020.apply(sum_cols, cols=dem_votes, axis=1)\n",
    "ga_2020[\"USH20_R\"] = ga_2020.apply(sum_cols, cols=rep_votes, axis=1)\n",
    "\n",
    "ga_2020 = ga_2020[\n",
    "    [\n",
    "        \"UNIQUE_ID\",\n",
    "        \"COUNTYFP\",\n",
    "        \"DISTRICT\",\n",
    "        \"CTYSOSID\",\n",
    "        \"PRECINCT_I\",\n",
    "        \"PRECINCT_N\",\n",
    "        \"CTYNAME\",\n",
    "        \"CTYNUMBER\",\n",
    "        \"CTYNUMBER2\",\n",
    "        \"FIPS2\",\n",
    "        \"CONG_DIST\",\n",
    "        \"USH20_D\",\n",
    "        \"USH20_R\",\n",
    "        \"geometry\",\n",
    "    ]\n",
    "]\n",
    "ga_2020.sample(n=3)"
   ]
  },
  {
   "cell_type": "code",
   "execution_count": 31,
   "metadata": {},
   "outputs": [
    {
     "name": "stdout",
     "output_type": "stream",
     "text": [
      "(232717, 18)\n"
     ]
    }
   ],
   "source": [
    "ga_cb = gpd.read_file(\n",
    "    \"input/ga/tl_2020_13_tabblock20/\"\n",
    ")  # https://www.census.gov/cgi-bin/geo/shapefiles/index.php?year=2022&layergroup=Blocks+%282020%29\n",
    "print(ga_cb.shape)\n",
    "ga_cb = ga_cb.to_crs(ga_2020.crs)\n",
    "ga_cb[\"geometry\"] = ga_cb[\"geometry\"].apply(shapely.validation.make_valid)\n",
    "assignment = maup.assign(ga_cb, ga_2020)\n",
    "ga_2020[\"POP20\"] = ga_cb[[\"POP20\"]].groupby(assignment).sum()"
   ]
  },
  {
   "cell_type": "code",
   "execution_count": 32,
   "metadata": {},
   "outputs": [
    {
     "name": "stdout",
     "output_type": "stream",
     "text": [
      "R-squared: 0.840730\n"
     ]
    },
    {
     "data": {
      "image/png": "[encoded data removed]",
      "text/plain": [
       "<Figure size 640x480 with 1 Axes>"
      ]
     },
     "metadata": {},
     "output_type": "display_data"
    }
   ],
   "source": [
    "cols_to_fill = [\"POP20\", \"USH20_D\", \"USH20_R\"]\n",
    "for c in cols_to_fill:\n",
    "    ga_2020[c] = ga_2020[c].fillna(0)\n",
    "create_fitline(ga_2020[\"POP20\"], ga_2020[\"USH20_D\"] + ga_2020[\"USH20_R\"])"
   ]
  },
  {
   "cell_type": "code",
   "execution_count": 33,
   "metadata": {},
   "outputs": [],
   "source": [
    "os.makedirs(\"output/ga_2020/\", exist_ok=True)\n",
    "ga_2020.to_file(\"output/ga_2020/ga_2020.shp\")"
   ]
  },
  {
   "attachments": {},
   "cell_type": "markdown",
   "metadata": {},
   "source": []
  },
  {
   "attachments": {},
   "cell_type": "markdown",
   "metadata": {},
   "source": [
    "## Hawaii"
   ]
  },
  {
   "attachments": {},
   "cell_type": "markdown",
   "metadata": {},
   "source": []
  },
  {
   "attachments": {},
   "cell_type": "markdown",
   "metadata": {},
   "source": [
    "## Idaho"
   ]
  },
  {
   "attachments": {},
   "cell_type": "markdown",
   "metadata": {},
   "source": []
  },
  {
   "attachments": {},
   "cell_type": "markdown",
   "metadata": {},
   "source": [
    "## Illinois"
   ]
  },
  {
   "attachments": {},
   "cell_type": "markdown",
   "metadata": {},
   "source": []
  },
  {
   "attachments": {},
   "cell_type": "markdown",
   "metadata": {},
   "source": [
    "## Indiana"
   ]
  },
  {
   "attachments": {},
   "cell_type": "markdown",
   "metadata": {},
   "source": []
  },
  {
   "attachments": {},
   "cell_type": "markdown",
   "metadata": {},
   "source": [
    "## Iowa"
   ]
  },
  {
   "attachments": {},
   "cell_type": "markdown",
   "metadata": {},
   "source": []
  },
  {
   "attachments": {},
   "cell_type": "markdown",
   "metadata": {},
   "source": [
    "## Kansas"
   ]
  },
  {
   "attachments": {},
   "cell_type": "markdown",
   "metadata": {},
   "source": []
  },
  {
   "attachments": {},
   "cell_type": "markdown",
   "metadata": {},
   "source": [
    "## Kentucky"
   ]
  },
  {
   "attachments": {},
   "cell_type": "markdown",
   "metadata": {},
   "source": []
  },
  {
   "attachments": {},
   "cell_type": "markdown",
   "metadata": {},
   "source": [
    "## Louisiana"
   ]
  },
  {
   "attachments": {},
   "cell_type": "markdown",
   "metadata": {},
   "source": []
  },
  {
   "attachments": {},
   "cell_type": "markdown",
   "metadata": {},
   "source": [
    "## Maine"
   ]
  },
  {
   "attachments": {},
   "cell_type": "markdown",
   "metadata": {},
   "source": []
  },
  {
   "attachments": {},
   "cell_type": "markdown",
   "metadata": {},
   "source": [
    "## Maryland"
   ]
  },
  {
   "cell_type": "code",
   "execution_count": 19,
   "metadata": {},
   "outputs": [
    {
     "name": "stdout",
     "output_type": "stream",
     "text": [
      "(2043, 11)\n"
     ]
    }
   ],
   "source": [
    "# 2010-2020 MD Precincts\n",
    "# md_2020_prec = gpd.read_file(\"../../data/mggg-states/MD/MD-precincts_abs.shp\")\n",
    "md_2020_prec = gpd.read_file(\n",
    "    \"input/md/md_vest_20/\"\n",
    ")  # https://redistrictingdatahub.org/dataset/vest-2020-maryland-precinct-and-election-results/\n",
    "print(md_2020_prec.shape)\n",
    "md_2020_prec = md_2020_prec.to_crs(state_dict[\"MD\"][\"CRS\"])\n",
    "\n",
    "\n",
    "# 2020 MD Voting from VEST\n",
    "md_2020_votes = pd.read_csv(\"input/HOUSE_precinct_general.csv\")\n",
    "md_2020_votes = md_2020_votes.loc[md_2020_votes[\"state\"] == \"MARYLAND\"]\n",
    "\n",
    "\n",
    "# 2020 Census\n",
    "md_cb = gpd.read_file(\n",
    "    \"input/md/tl_2020_24_tabblock20/\"\n",
    ")  # https://www.census.gov/cgi-bin/geo/shapefiles/index.php?year=2020&layergroup=Blocks+%282020%29"
   ]
  },
  {
   "cell_type": "code",
   "execution_count": 20,
   "metadata": {},
   "outputs": [
    {
     "name": "stdout",
     "output_type": "stream",
     "text": [
      "(2035, 3)\n"
     ]
    },
    {
     "data": {
      "text/html": [
       "<div>\n",
       "<style scoped>\n",
       "    .dataframe tbody tr th:only-of-type {\n",
       "        vertical-align: middle;\n",
       "    }\n",
       "\n",
       "    .dataframe tbody tr th {\n",
       "        vertical-align: top;\n",
       "    }\n",
       "\n",
       "    .dataframe thead th {\n",
       "        text-align: right;\n",
       "    }\n",
       "</style>\n",
       "<table border=\"1\" class=\"dataframe\">\n",
       "  <thead>\n",
       "    <tr style=\"text-align: right;\">\n",
       "      <th></th>\n",
       "      <th>precinct_</th>\n",
       "      <th>USH20_D</th>\n",
       "      <th>USH20_R</th>\n",
       "    </tr>\n",
       "  </thead>\n",
       "  <tbody>\n",
       "    <tr>\n",
       "      <th>433</th>\n",
       "      <td>BALTIMORE CITY PRECINCT 26-018</td>\n",
       "      <td>585</td>\n",
       "      <td>36</td>\n",
       "    </tr>\n",
       "    <tr>\n",
       "      <th>1350</th>\n",
       "      <td>MONTGOMERY PRECINCT 06-004</td>\n",
       "      <td>1434</td>\n",
       "      <td>421</td>\n",
       "    </tr>\n",
       "  </tbody>\n",
       "</table>\n",
       "</div>"
      ],
      "text/plain": [
       "                           precinct_  USH20_D  USH20_R\n",
       "433   BALTIMORE CITY PRECINCT 26-018      585       36\n",
       "1350      MONTGOMERY PRECINCT 06-004     1434      421"
      ]
     },
     "execution_count": 20,
     "metadata": {},
     "output_type": "execute_result"
    }
   ],
   "source": [
    "md_2020_votes = md_2020_votes.loc[md_2020_votes[\"state\"] == \"MARYLAND\"]\n",
    "md_2020_votes = md_2020_votes.loc[md_2020_votes[\"office\"] == \"US HOUSE\"]\n",
    "md_2020_votes = md_2020_votes.loc[\n",
    "    md_2020_votes[\"party_simplified\"].isin([\"DEMOCRAT\", \"REPUBLICAN\"])\n",
    "]\n",
    "md_2020_votes[\"precinct_\"] = md_2020_votes.apply(\n",
    "    lambda x: x[\"jurisdiction_name\"] + \" PRECINCT \" + x[\"precinct\"], axis=1\n",
    ")\n",
    "md_2020_votes_only = (\n",
    "    md_2020_votes.groupby([\"precinct_\", \"party_simplified\"])[\"votes\"]\n",
    "    .sum()\n",
    "    .reset_index()\n",
    ")\n",
    "md_2020_votes_only = md_2020_votes_only.pivot(\n",
    "    index=\"precinct_\", columns=\"party_simplified\", values=\"votes\"\n",
    ").reset_index()\n",
    "md_2020_votes_only.columns = [\"precinct_\", \"USH20_D\", \"USH20_R\"]\n",
    "print(md_2020_votes_only.shape)\n",
    "md_2020_votes_only.sample(n=2)"
   ]
  },
  {
   "cell_type": "code",
   "execution_count": 21,
   "metadata": {},
   "outputs": [
    {
     "name": "stdout",
     "output_type": "stream",
     "text": [
      "(2035, 4)\n"
     ]
    }
   ],
   "source": [
    "## Manually prepared excel file to connect the RDH and VEST datasets\n",
    "md_map = pd.read_excel(\"input/md/md_map.xlsx\")\n",
    "md_2020_votes_only = md_2020_votes_only.merge(md_map, on=\"precinct_\")\n",
    "print(md_2020_votes_only.shape)\n",
    "md_2020_votes_only.sample(n=3)\n",
    "md_2020 = md_2020_prec.merge(\n",
    "    md_2020_votes_only, how=\"left\", left_on=\"NAME\", right_on=\"match\"\n",
    ")"
   ]
  },
  {
   "cell_type": "code",
   "execution_count": 22,
   "metadata": {},
   "outputs": [],
   "source": [
    "md_2020[\"geometry\"] = md_2020[\"geometry\"].apply(shapely.validation.make_valid)\n",
    "md_2020[\"geometry\"] = md_2020[\"geometry\"].apply(convert_3D_2D)\n",
    "md_2020[\"geometry\"] = md_2020[\"geometry\"].apply(remove_geom_collections)"
   ]
  },
  {
   "cell_type": "code",
   "execution_count": 23,
   "metadata": {},
   "outputs": [
    {
     "name": "stdout",
     "output_type": "stream",
     "text": [
      "(83827, 18)\n"
     ]
    }
   ],
   "source": [
    "print(md_cb.shape)\n",
    "md_cb = md_cb.to_crs(md_2020.crs)\n",
    "md_cb[\"geometry\"] = md_cb[\"geometry\"].apply(shapely.validation.make_valid)\n",
    "assignment = maup.assign(md_cb, md_2020)\n",
    "md_2020[\"POP20\"] = md_cb[[\"POP20\"]].groupby(assignment).sum()"
   ]
  },
  {
   "cell_type": "code",
   "execution_count": 24,
   "metadata": {},
   "outputs": [
    {
     "name": "stdout",
     "output_type": "stream",
     "text": [
      "R-squared: 0.752542\n"
     ]
    },
    {
     "data": {
      "image/png": "[encoded data removed]",
      "text/plain": [
       "<Figure size 640x480 with 1 Axes>"
      ]
     },
     "metadata": {},
     "output_type": "display_data"
    }
   ],
   "source": [
    "cols_to_fill = [\"POP20\", \"USH20_D\", \"USH20_R\"]\n",
    "for c in cols_to_fill:\n",
    "    md_2020[c] = md_2020[c].fillna(0)\n",
    "create_fitline(md_2020[\"POP20\"], md_2020[\"USH20_D\"] + md_2020[\"USH20_R\"])"
   ]
  },
  {
   "cell_type": "code",
   "execution_count": 25,
   "metadata": {},
   "outputs": [],
   "source": [
    "os.makedirs(\"output/md_2020/\", exist_ok=True)\n",
    "md_2020.to_file(\"output/md_2020/md_2020.shp\")"
   ]
  },
  {
   "cell_type": "code",
   "execution_count": null,
   "metadata": {},
   "outputs": [],
   "source": []
  },
  {
   "attachments": {},
   "cell_type": "markdown",
   "metadata": {},
   "source": [
    "## Massachusetts"
   ]
  },
  {
   "attachments": {},
   "cell_type": "markdown",
   "metadata": {},
   "source": []
  },
  {
   "attachments": {},
   "cell_type": "markdown",
   "metadata": {},
   "source": [
    "## Michigan"
   ]
  },
  {
   "attachments": {},
   "cell_type": "markdown",
   "metadata": {},
   "source": []
  },
  {
   "attachments": {},
   "cell_type": "markdown",
   "metadata": {},
   "source": [
    "## Minnesota"
   ]
  },
  {
   "attachments": {},
   "cell_type": "markdown",
   "metadata": {},
   "source": []
  },
  {
   "attachments": {},
   "cell_type": "markdown",
   "metadata": {},
   "source": [
    "## Mississippi"
   ]
  },
  {
   "attachments": {},
   "cell_type": "markdown",
   "metadata": {},
   "source": []
  },
  {
   "attachments": {},
   "cell_type": "markdown",
   "metadata": {},
   "source": [
    "## Missouri"
   ]
  },
  {
   "attachments": {},
   "cell_type": "markdown",
   "metadata": {},
   "source": []
  },
  {
   "attachments": {},
   "cell_type": "markdown",
   "metadata": {},
   "source": [
    "## Montana"
   ]
  },
  {
   "attachments": {},
   "cell_type": "markdown",
   "metadata": {},
   "source": []
  },
  {
   "attachments": {},
   "cell_type": "markdown",
   "metadata": {},
   "source": [
    "## Nebraska"
   ]
  },
  {
   "attachments": {},
   "cell_type": "markdown",
   "metadata": {},
   "source": []
  },
  {
   "attachments": {},
   "cell_type": "markdown",
   "metadata": {},
   "source": [
    "## Nevada"
   ]
  },
  {
   "attachments": {},
   "cell_type": "markdown",
   "metadata": {},
   "source": []
  },
  {
   "attachments": {},
   "cell_type": "markdown",
   "metadata": {},
   "source": [
    "## New Hampshire"
   ]
  },
  {
   "cell_type": "code",
   "execution_count": 12,
   "metadata": {},
   "outputs": [
    {
     "name": "stdout",
     "output_type": "stream",
     "text": [
      "(320, 71)\n"
     ]
    }
   ],
   "source": [
    "# 2020 Precict Boundaries and Housing Voting Data\n",
    "nh_2020 = gpd.read_file(\n",
    "    \"../../data/mggg-states/nh/\"\n",
    ")  # https://github.com/mggg-states/NH-shapefiles\n",
    "print(nh_2020.shape)\n",
    "nh_2020 = nh_2020.to_crs(state_dict[\"NH\"][\"CRS\"])\n",
    "nh_2020[\"geometry\"] = nh_2020[\"geometry\"].apply(convert_3D_2D)\n",
    "# 2022 House Voting\n",
    "nh_2022_votes = pd.read_csv(\n",
    "    \"input/nh/nh22_cleaned.csv\"\n",
    ")  # https://github.com/MEDSL/2022-elections-official\n",
    "# 2020 Census Blocks Shapefile with Population Estimates\n",
    "nh_cb = gpd.read_file(\n",
    "    \"input/nh/tl_2020_33_tabblock20/\"\n",
    ")  # https://www.census.gov/cgi-bin/geo/shapefiles/index.php?year=2020&layergroup=Blocks+%282020%29"
   ]
  },
  {
   "cell_type": "code",
   "execution_count": 13,
   "metadata": {},
   "outputs": [
    {
     "data": {
      "text/plain": [
       "<Axes: >"
      ]
     },
     "execution_count": 13,
     "metadata": {},
     "output_type": "execute_result"
    },
    {
     "data": {
      "image/png": "[encoded data removed]",
      "text/plain": [
       "<Figure size 640x480 with 1 Axes>"
      ]
     },
     "metadata": {},
     "output_type": "display_data"
    }
   ],
   "source": [
    "nh_2020.plot()"
   ]
  },
  {
   "cell_type": "code",
   "execution_count": 14,
   "metadata": {},
   "outputs": [],
   "source": [
    "nh_2020.columns = [\n",
    "    c[:-1] + \"_\" + c[-1] if c.startswith(\"USH20\") else c for c in nh_2020.columns\n",
    "]"
   ]
  },
  {
   "cell_type": "code",
   "execution_count": 15,
   "metadata": {},
   "outputs": [],
   "source": [
    "def cleaner(df, house_office=\"US HOUSE\"):\n",
    "    df_ = df.copy()\n",
    "    df_ = df_.loc[df_[\"office\"] == house_office]\n",
    "    df_ = df_.loc[df_[\"party_simplified\"].isin([\"DEMOCRAT\", \"REPUBLICAN\"])]\n",
    "    df_votes = (\n",
    "        df_.groupby([\"precinct\", \"party_simplified\"])[\"votes\"].sum().reset_index()\n",
    "    )\n",
    "    return df_votes\n",
    "\n",
    "\n",
    "nh_2022_votes_only = cleaner(nh_2022_votes)\n",
    "nh_2022_votes_only = nh_2022_votes_only.pivot(\n",
    "    index=\"precinct\", columns=\"party_simplified\", values=\"votes\"\n",
    ").reset_index()\n",
    "nh_2022_votes_only.columns = [\"precinct\", \"USH22_D\", \"USH22_R\"]"
   ]
  },
  {
   "cell_type": "code",
   "execution_count": 16,
   "metadata": {},
   "outputs": [
    {
     "name": "stdout",
     "output_type": "stream",
     "text": [
      "(320, 74)\n"
     ]
    }
   ],
   "source": [
    "def renamer(s):\n",
    "    if s == \"Atkinson & Gilmanton - Entire\":\n",
    "        return \"ATKINSON AND GILMANTON ACADEMY GRANT\"\n",
    "    if s == \"Low & Burbanks Grant - Entire\":\n",
    "        return \"LOW AND BURBANK'S GRANT\"\n",
    "    if s == \"Thompson & Meserve - Entire\":\n",
    "        return \"THOMPSON AND MESERVE'S PURCHASE\"\n",
    "    if s.endswith(\" - Entire\"):\n",
    "        return s[: len(s) - len(\" - Entire\")].upper()\n",
    "    else:\n",
    "        s = s.upper()\n",
    "        s_p = s.split(\"- \")\n",
    "        s = s_p[0] + s_p[1]\n",
    "        return s\n",
    "\n",
    "\n",
    "nh_2020[\"precinct\"] = nh_2020[\"Precinct\"].apply(renamer)\n",
    "nh_2020 = nh_2020.merge(nh_2022_votes_only, on=\"precinct\", how=\"left\")\n",
    "print(nh_2020.shape)"
   ]
  },
  {
   "cell_type": "code",
   "execution_count": 17,
   "metadata": {},
   "outputs": [
    {
     "name": "stdout",
     "output_type": "stream",
     "text": [
      "(31948, 18)\n",
      "Converting CRS\n",
      "Assigning Census Blocks\n"
     ]
    }
   ],
   "source": [
    "print(nh_cb.shape)\n",
    "print(\"Converting CRS\")\n",
    "nh_cb = nh_cb.to_crs(state_dict[\"NH\"][\"CRS\"])\n",
    "nh_cb[\"geometry\"] = nh_cb[\"geometry\"].apply(shapely.validation.make_valid)\n",
    "print(\"Assigning Census Blocks\")\n",
    "assignment = maup.assign(nh_cb, nh_2020)\n",
    "nh_2020[\"POP20\"] = nh_cb[[\"POP20\"]].groupby(assignment).sum()"
   ]
  },
  {
   "cell_type": "code",
   "execution_count": 18,
   "metadata": {},
   "outputs": [
    {
     "name": "stdout",
     "output_type": "stream",
     "text": [
      "R-squared: 0.958947\n"
     ]
    },
    {
     "data": {
      "image/png": "[encoded data removed]",
      "text/plain": [
       "<Figure size 640x480 with 1 Axes>"
      ]
     },
     "metadata": {},
     "output_type": "display_data"
    }
   ],
   "source": [
    "cols_to_fill = [\"POP20\", \"USH20_D\", \"USH20_R\"]\n",
    "for c in cols_to_fill:\n",
    "    nh_2020[c] = nh_2020[c].fillna(0)\n",
    "create_fitline(nh_2020[\"POP20\"], nh_2020[\"USH20_D\"] + nh_2020[\"USH20_R\"])"
   ]
  },
  {
   "cell_type": "code",
   "execution_count": 19,
   "metadata": {},
   "outputs": [],
   "source": [
    "os.makedirs(\"output/nh_2020/\", exist_ok=True)\n",
    "nh_2020.to_file(\"output/nh_2020/nh_2020.shp\")"
   ]
  },
  {
   "attachments": {},
   "cell_type": "markdown",
   "metadata": {},
   "source": [
    "## New Jersey"
   ]
  },
  {
   "attachments": {},
   "cell_type": "markdown",
   "metadata": {},
   "source": []
  },
  {
   "attachments": {},
   "cell_type": "markdown",
   "metadata": {},
   "source": [
    "## New Mexico"
   ]
  },
  {
   "attachments": {},
   "cell_type": "markdown",
   "metadata": {},
   "source": []
  },
  {
   "attachments": {},
   "cell_type": "markdown",
   "metadata": {},
   "source": [
    "## New York"
   ]
  },
  {
   "attachments": {},
   "cell_type": "markdown",
   "metadata": {},
   "source": []
  },
  {
   "attachments": {},
   "cell_type": "markdown",
   "metadata": {},
   "source": [
    "## North Carolina"
   ]
  },
  {
   "attachments": {},
   "cell_type": "markdown",
   "metadata": {},
   "source": []
  },
  {
   "attachments": {},
   "cell_type": "markdown",
   "metadata": {},
   "source": [
    "## North Dakota"
   ]
  },
  {
   "attachments": {},
   "cell_type": "markdown",
   "metadata": {},
   "source": []
  },
  {
   "attachments": {},
   "cell_type": "markdown",
   "metadata": {},
   "source": [
    "## Ohio"
   ]
  },
  {
   "cell_type": "code",
   "execution_count": 66,
   "metadata": {},
   "outputs": [
    {
     "name": "stdout",
     "output_type": "stream",
     "text": [
      "(8941, 23)\n",
      "R-squared: 0.382879\n"
     ]
    },
    {
     "data": {
      "image/png": "[encoded data removed]",
      "text/plain": [
       "<Figure size 640x480 with 1 Axes>"
      ]
     },
     "metadata": {},
     "output_type": "display_data"
    },
    {
     "name": "stderr",
     "output_type": "stream",
     "text": [
      "C:\\Users\\yagne\\AppData\\Local\\Temp\\ipykernel_568\\2643239868.py:58: UserWarning: Column names longer than 10 characters will be truncated when saved to ESRI Shapefile.\n",
      "  oh_2020_2022.to_file(\"output/oh_2020/oh_2020.shp\")\n"
     ]
    }
   ],
   "source": [
    "oh_2020 = gpd.read_file(\n",
    "    \"input/oh/oh_gen_20_prec/oh_gen_20_prec/oh_gen_20_cong_prec.shp\"\n",
    ")\n",
    "oh_2020 = oh_2020.to_crs(state_dict[\"OH\"][\"CRS\"])\n",
    "dem_votes = [c for c in oh_2020.columns if bool(re.match(\"GCON[0-9][0-9]D\", c))]\n",
    "rep_votes = [c for c in oh_2020.columns if bool(re.match(\"GCON[0-9][0-9]R\", c))]\n",
    "oh_2020[\"USH20_D\"] = oh_2020.apply(sum_cols, cols=dem_votes, axis=1)\n",
    "oh_2020[\"USH20_R\"] = oh_2020.apply(sum_cols, cols=rep_votes, axis=1)\n",
    "\n",
    "oh_2020 = oh_2020[\n",
    "    [\n",
    "        \"UNIQUE_ID\",\n",
    "        \"COUNTYFP\",\n",
    "        \"STATEFP20\",\n",
    "        \"COUNTYFP20\",\n",
    "        \"VTDST20\",\n",
    "        \"PRECINCT20\",\n",
    "        \"GEOID20\",\n",
    "        \"CONG_DIST\",\n",
    "        \"geometry\",\n",
    "        \"USH20_D\",\n",
    "        \"USH20_R\",\n",
    "    ]\n",
    "]\n",
    "\n",
    "\n",
    "def id_formatter(s):\n",
    "    s = re.sub(r\"-\\(CON-[0-9]+\\)\", \"\", s)\n",
    "    return s\n",
    "\n",
    "\n",
    "def join_text(x):\n",
    "    return \"|\".join(x)\n",
    "\n",
    "\n",
    "oh_2020[\"ID\"] = oh_2020[\"UNIQUE_ID\"].apply(id_formatter)\n",
    "oh_2020 = oh_2020.dissolve(\n",
    "    by=\"ID\",\n",
    "    aggfunc={\n",
    "        \"UNIQUE_ID\": join_text,\n",
    "        \"COUNTYFP\": \"first\",\n",
    "        \"STATEFP20\": \"first\",\n",
    "        \"COUNTYFP20\": \"first\",\n",
    "        \"VTDST20\": \"first\",\n",
    "        \"PRECINCT20\": \"first\",\n",
    "        \"GEOID20\": \"first\",\n",
    "        \"CONG_DIST\": join_text,\n",
    "        \"USH20_D\": \"sum\",\n",
    "        \"USH20_R\": \"sum\",\n",
    "    },\n",
    ").reset_index()\n",
    "\n",
    "oh_2022 = pd.read_csv(\"input/oh/oh_2022_gen_prec/oh_2022_gen_prec.csv\")\n",
    "dem_votes = [c for c in oh_2022.columns if bool(re.match(\"GCON[0-9][0-9]D\", c))]\n",
    "rep_votes = [c for c in oh_2022.columns if bool(re.match(\"GCON[0-9][0-9]R\", c))]\n",
    "\n",
    "oh_2022[\"USH22_D\"] = oh_2022.apply(sum_cols, cols=dem_votes, axis=1)\n",
    "oh_2022[\"USH22_R\"] = oh_2022.apply(sum_cols, cols=rep_votes, axis=1)\n",
    "oh_2022 = oh_2022[\n",
    "    [\n",
    "        \"UNIQUE_ID\",\n",
    "        \"COUNTYFP\",\n",
    "        \"County\",\n",
    "        \"PRECNAME\",\n",
    "        \"PRECCODE\",\n",
    "        \"Region\",\n",
    "        \"Market\",\n",
    "        \"REGVOT\",\n",
    "        \"BALLOTS\",\n",
    "        \"USH22_D\",\n",
    "        \"USH22_R\",\n",
    "    ]\n",
    "]\n",
    "\n",
    "\n",
    "def id_formatter(x):\n",
    "    return str(x[\"COUNTYFP\"]).zfill(3) + \"-\" + x[\"PRECCODE\"]\n",
    "\n",
    "\n",
    "oh_2022[\"ID\"] = oh_2022.apply(id_formatter, axis=1)\n",
    "\n",
    "oh_2020_2022 = oh_2020.merge(oh_2022, on=\"ID\", how=\"left\")\n",
    "print(oh_2020_2022.shape)\n",
    "\n",
    "oh_cb = gpd.read_file(\"input/oh/tl_2022_39_tabblock20/\")\n",
    "\n",
    "oh_cb = oh_cb.to_crs(oh_2020_2022.crs)\n",
    "assignment = maup.assign(oh_cb, oh_2020_2022)\n",
    "oh_2020_2022[\"POP20\"] = oh_cb[[\"POP20\"]].groupby(assignment).sum()\n",
    "\n",
    "oh_2020_2022.columns\n",
    "cols_to_fill = [\"POP20\", \"USH20_D\", \"USH20_R\", \"USH22_D\", \"USH22_R\"]\n",
    "for c in cols_to_fill:\n",
    "    oh_2020_2022[c] = oh_2020_2022[c].fillna(0)\n",
    "\n",
    "create_fitline(oh_2020_2022[\"POP20\"], oh_2020_2022[\"USH20_R\"] + oh_2020_2022[\"USH20_D\"])\n",
    "\n",
    "os.makedirs(\"output/oh_2020/\", exist_ok=True)\n",
    "oh_2020_2022.to_file(\"output/oh_2020/oh_2020.shp\")"
   ]
  },
  {
   "attachments": {},
   "cell_type": "markdown",
   "metadata": {},
   "source": [
    "## Oklahoma"
   ]
  },
  {
   "attachments": {},
   "cell_type": "markdown",
   "metadata": {},
   "source": []
  },
  {
   "attachments": {},
   "cell_type": "markdown",
   "metadata": {},
   "source": [
    "## Oregon"
   ]
  },
  {
   "attachments": {},
   "cell_type": "markdown",
   "metadata": {},
   "source": []
  },
  {
   "attachments": {},
   "cell_type": "markdown",
   "metadata": {},
   "source": [
    "## Pennsylvania"
   ]
  },
  {
   "attachments": {},
   "cell_type": "markdown",
   "metadata": {},
   "source": []
  },
  {
   "attachments": {},
   "cell_type": "markdown",
   "metadata": {},
   "source": [
    "## Rhode Island"
   ]
  },
  {
   "attachments": {},
   "cell_type": "markdown",
   "metadata": {},
   "source": []
  },
  {
   "attachments": {},
   "cell_type": "markdown",
   "metadata": {},
   "source": [
    "## South Carolina"
   ]
  },
  {
   "attachments": {},
   "cell_type": "markdown",
   "metadata": {},
   "source": []
  },
  {
   "attachments": {},
   "cell_type": "markdown",
   "metadata": {},
   "source": [
    "## South Dakota"
   ]
  },
  {
   "attachments": {},
   "cell_type": "markdown",
   "metadata": {},
   "source": []
  },
  {
   "attachments": {},
   "cell_type": "markdown",
   "metadata": {},
   "source": [
    "## Tennessee"
   ]
  },
  {
   "attachments": {},
   "cell_type": "markdown",
   "metadata": {},
   "source": []
  },
  {
   "attachments": {},
   "cell_type": "markdown",
   "metadata": {},
   "source": [
    "## Texas"
   ]
  },
  {
   "attachments": {},
   "cell_type": "markdown",
   "metadata": {},
   "source": []
  },
  {
   "attachments": {},
   "cell_type": "markdown",
   "metadata": {},
   "source": [
    "## Utah"
   ]
  },
  {
   "attachments": {},
   "cell_type": "markdown",
   "metadata": {},
   "source": []
  },
  {
   "attachments": {},
   "cell_type": "markdown",
   "metadata": {},
   "source": [
    "## Vermont"
   ]
  },
  {
   "attachments": {},
   "cell_type": "markdown",
   "metadata": {},
   "source": []
  },
  {
   "attachments": {},
   "cell_type": "markdown",
   "metadata": {},
   "source": [
    "## Virginia"
   ]
  },
  {
   "attachments": {},
   "cell_type": "markdown",
   "metadata": {},
   "source": []
  },
  {
   "attachments": {},
   "cell_type": "markdown",
   "metadata": {},
   "source": [
    "## Washington"
   ]
  },
  {
   "attachments": {},
   "cell_type": "markdown",
   "metadata": {},
   "source": []
  },
  {
   "attachments": {},
   "cell_type": "markdown",
   "metadata": {},
   "source": [
    "## West Virginia"
   ]
  },
  {
   "attachments": {},
   "cell_type": "markdown",
   "metadata": {},
   "source": []
  },
  {
   "attachments": {},
   "cell_type": "markdown",
   "metadata": {},
   "source": [
    "## Wisconsin"
   ]
  },
  {
   "attachments": {},
   "cell_type": "markdown",
   "metadata": {},
   "source": []
  },
  {
   "attachments": {},
   "cell_type": "markdown",
   "metadata": {},
   "source": [
    "## Wyoming"
   ]
  }
 ],
 "metadata": {
  "kernelspec": {
   "display_name": "common2",
   "language": "python",
   "name": "python3"
  },
  "language_info": {
   "codemirror_mode": {
    "name": "ipython",
    "version": 3
   },
   "file_extension": ".py",
   "mimetype": "text/x-python",
   "name": "python",
   "nbconvert_exporter": "python",
   "pygments_lexer": "ipython3",
   "version": "3.9.16"
  },
  "orig_nbformat": 4
 },
 "nbformat": 4,
 "nbformat_minor": 2
}
