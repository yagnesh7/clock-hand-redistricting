{
 "cells": [
  {
   "cell_type": "code",
   "execution_count": 46,
   "metadata": {},
   "outputs": [],
   "source": [
    "# Recommendation: `conda install --channel conda-forge geopandas`\n",
    "import numpy as np\n",
    "import math\n",
    "import geopandas as gpd\n",
    "import pandas as pd\n",
    "import matplotlib.pyplot as plt\n",
    "from scipy.stats import entropy \n",
    "import shapely\n",
    "import json\n",
    "from shapely.geometry.polygon import Polygon\n",
    "from shapely.geometry.multipolygon import MultiPolygon\n",
    "from tqdm import tqdm\n",
    "import os\n",
    "\n",
    "import scorers\n",
    "import redistricting\n",
    "import matplotlib.ticker as ticker"
   ]
  },
  {
   "cell_type": "code",
   "execution_count": 47,
   "metadata": {},
   "outputs": [],
   "source": [
    "def splits_to_regions_binary(row, splits):\n",
    "    if splits is None:\n",
    "        return 0\n",
    "    if len(splits) == 0:\n",
    "        return 0\n",
    "\n",
    "    num = 0\n",
    "    for v in splits:\n",
    "        num = 2 * num + row[v]\n",
    "    return num\n",
    "\n",
    "def count_disjoints(geometry):\n",
    "    if type(geometry) == Polygon:\n",
    "        return 1 \n",
    "    else:\n",
    "        return len(geometry.geoms)"
   ]
  },
  {
   "cell_type": "code",
   "execution_count": 48,
   "metadata": {},
   "outputs": [
    {
     "data": {
      "text/html": [
       "<div>\n",
       "<style scoped>\n",
       "    .dataframe tbody tr th:only-of-type {\n",
       "        vertical-align: middle;\n",
       "    }\n",
       "\n",
       "    .dataframe tbody tr th {\n",
       "        vertical-align: top;\n",
       "    }\n",
       "\n",
       "    .dataframe thead th {\n",
       "        text-align: right;\n",
       "    }\n",
       "</style>\n",
       "<table border=\"1\" class=\"dataframe\">\n",
       "  <thead>\n",
       "    <tr style=\"text-align: right;\">\n",
       "      <th></th>\n",
       "      <th>PRES12R</th>\n",
       "      <th>PRES12D</th>\n",
       "      <th>GOV12R</th>\n",
       "      <th>GOV12D</th>\n",
       "      <th>USH12R</th>\n",
       "      <th>USH12D</th>\n",
       "      <th>GOV14R</th>\n",
       "      <th>GOV14D</th>\n",
       "      <th>PRES16R</th>\n",
       "      <th>PRES16D</th>\n",
       "      <th>...</th>\n",
       "      <th>GOV20R</th>\n",
       "      <th>PRES20D</th>\n",
       "      <th>PRES20R</th>\n",
       "      <th>SSEN20D</th>\n",
       "      <th>SSEN20R</th>\n",
       "      <th>USH20D</th>\n",
       "      <th>USH20R</th>\n",
       "      <th>SEN20D</th>\n",
       "      <th>SEN20R</th>\n",
       "      <th>geometry</th>\n",
       "    </tr>\n",
       "  </thead>\n",
       "  <tbody>\n",
       "    <tr>\n",
       "      <th>140</th>\n",
       "      <td>353.0</td>\n",
       "      <td>343.0</td>\n",
       "      <td>405.0</td>\n",
       "      <td>349.0</td>\n",
       "      <td>350.0</td>\n",
       "      <td>296.0</td>\n",
       "      <td>287.0</td>\n",
       "      <td>239.0</td>\n",
       "      <td>423.0</td>\n",
       "      <td>267.0</td>\n",
       "      <td>...</td>\n",
       "      <td>607</td>\n",
       "      <td>364</td>\n",
       "      <td>472</td>\n",
       "      <td>304</td>\n",
       "      <td>513</td>\n",
       "      <td>263</td>\n",
       "      <td>456</td>\n",
       "      <td>399</td>\n",
       "      <td>450</td>\n",
       "      <td>POLYGON ((966516.812 432057.313, 966876.125 43...</td>\n",
       "    </tr>\n",
       "  </tbody>\n",
       "</table>\n",
       "<p>1 rows × 71 columns</p>\n",
       "</div>"
      ],
      "text/plain": [
       "     PRES12R  PRES12D  GOV12R  GOV12D  USH12R  USH12D  GOV14R  GOV14D  \\\n",
       "140    353.0    343.0   405.0   349.0   350.0   296.0   287.0   239.0   \n",
       "\n",
       "     PRES16R  PRES16D  ...  GOV20R  PRES20D  PRES20R  SSEN20D  SSEN20R  \\\n",
       "140    423.0    267.0  ...     607      364      472      304      513   \n",
       "\n",
       "     USH20D  USH20R  SEN20D SEN20R  \\\n",
       "140     263     456     399    450   \n",
       "\n",
       "                                              geometry  \n",
       "140  POLYGON ((966516.812 432057.313, 966876.125 43...  \n",
       "\n",
       "[1 rows x 71 columns]"
      ]
     },
     "execution_count": 48,
     "metadata": {},
     "output_type": "execute_result"
    }
   ],
   "source": [
    "data_path = \"../data/mggg-states/\"\n",
    "output_dir = \"../output/\"\n",
    "run_name = \"2018_abs_both_comp\"\n",
    "\n",
    "state = \"NH\"\n",
    "DEGREE_LIMIT = 0\n",
    "# scorers \n",
    "# crs = \"EPSG:6505\"\n",
    "\n",
    "states = pd.read_csv(\"../states_2010.csv\")\n",
    "row = states.loc[states['abbrev'] == state]\n",
    "row = [r for i,r in row.iterrows()][0]\n",
    "\n",
    "voting_precincts = gpd.read_file(os.path.join(data_path,row[\"abbrev\"]))\n",
    "# voting_precincts = voting_precincts.to_crs(crs)\n",
    "n_districts = row[\"districts\"]\n",
    "pop = row[\"population\"]\n",
    "d_votes = \"USH16D\" #row[\"dem_votes\"]\n",
    "r_votes = \"USH16R\" #row[\"rep_votes\"]\n",
    "voting_precincts.sample(n=1)"
   ]
  },
  {
   "cell_type": "code",
   "execution_count": 49,
   "metadata": {},
   "outputs": [
    {
     "data": {
      "text/plain": [
       "Index(['PRES12R', 'PRES12D', 'GOV12R', 'GOV12D', 'USH12R', 'USH12D', 'GOV14R',\n",
       "       'GOV14D', 'PRES16R', 'PRES16D', 'GOV16R', 'GOV16D', 'SEN16R', 'SEN16D',\n",
       "       'USH16R', 'USH16D', 'GOV18R', 'GOV18D', 'COUNTY', 'STATE', 'STATEFP',\n",
       "       'COUNTYFP', 'Precinct', 'TOTPOP', 'NH_WHITE', 'NH_BLACK', 'NH_AMIN',\n",
       "       'NH_ASIAN', 'NH_NHPI', 'NH_OTHER', 'NH_2MORE', 'HISP', 'H_WHITE',\n",
       "       'H_BLACK', 'H_AMIN', 'H_NHPI', 'H_OTHER', 'H_2MORE', 'VAP', 'HVAP',\n",
       "       'WVAP', 'BVAP', 'AMINVAP', 'ASIANVAP', 'NHPIVAP', 'OTHERVAP',\n",
       "       '2MOREVAP', 'HDIST', 'SEND', 'CD', 'SSEN14R', 'SSEN14D', 'SSEN16R',\n",
       "       'SSEN16D', 'EC12R', 'EC12D', 'EC14R', 'EC14D', 'EC20D', 'EC20R',\n",
       "       'GOV20D', 'GOV20R', 'PRES20D', 'PRES20R', 'SSEN20D', 'SSEN20R',\n",
       "       'USH20D', 'USH20R', 'SEN20D', 'SEN20R', 'geometry'],\n",
       "      dtype='object')"
      ]
     },
     "execution_count": 49,
     "metadata": {},
     "output_type": "execute_result"
    }
   ],
   "source": [
    "voting_precincts.columns"
   ]
  },
  {
   "cell_type": "code",
   "execution_count": 50,
   "metadata": {},
   "outputs": [],
   "source": [
    "voting_precincts['REPRESENTATIVE_POINT'] =  voting_precincts.centroid # voting_precincts.representative_point() https://gis.stackexchange.com/a/414263\n",
    "voting_precincts['RP_LON'] = voting_precincts['REPRESENTATIVE_POINT'].apply(lambda p: p.x)\n",
    "voting_precincts['RP_LAT'] = voting_precincts['REPRESENTATIVE_POINT'].apply(lambda p: p.y)"
   ]
  },
  {
   "cell_type": "code",
   "execution_count": 51,
   "metadata": {},
   "outputs": [
    {
     "data": {
      "text/plain": [
       "USH16D    0.515475\n",
       "USH16R    0.484525\n",
       "dtype: float64"
      ]
     },
     "execution_count": 51,
     "metadata": {},
     "output_type": "execute_result"
    }
   ],
   "source": [
    "orig_voting = voting_precincts[[d_votes, r_votes]].sum()/(voting_precincts[[d_votes, r_votes]].sum().sum())\n",
    "orig_voting"
   ]
  },
  {
   "cell_type": "code",
   "execution_count": 52,
   "metadata": {},
   "outputs": [
    {
     "name": "stderr",
     "output_type": "stream",
     "text": [
      "100%|██████████| 360/360 [00:02<00:00, 131.66it/s]\n"
     ]
    }
   ],
   "source": [
    "holder = []   \n",
    "redistricting.split_this(df=voting_precincts, n_districts=n_districts, pop_col=pop, dem_col=d_votes, rep_col=r_votes, orig_dem=orig_voting[d_votes], orig_rep=orig_voting[r_votes], degree_limit=DEGREE_LIMIT, score_fn=scorers.abs_diff_mean_fn, holder=holder)"
   ]
  },
  {
   "cell_type": "code",
   "execution_count": 53,
   "metadata": {},
   "outputs": [
    {
     "data": {
      "text/plain": [
       "2"
      ]
     },
     "execution_count": 53,
     "metadata": {},
     "output_type": "execute_result"
    }
   ],
   "source": [
    "all_districts = pd.concat(holder).reset_index(drop=True)\n",
    "split_columns = [c for c in all_districts.columns if c.startswith(\"SPLIT_\")]\n",
    "\n",
    "for c in split_columns:\n",
    "    all_districts[c] = all_districts[c].fillna(0)\n",
    "\n",
    "all_districts['DISTRICT'] = all_districts.apply(splits_to_regions_binary, splits=split_columns, axis=1)\n",
    "all_districts['DISTRICT'].nunique()"
   ]
  },
  {
   "cell_type": "code",
   "execution_count": 54,
   "metadata": {},
   "outputs": [],
   "source": [
    "# Shuffle for coloring\n",
    "n_districts = all_districts['DISTRICT'].nunique()\n",
    "random_districts = np.random.choice(np.linspace(0,n_districts-1,n_districts), size=n_districts, replace=False, p=None)\n",
    "shuffle_dict = dict(zip(all_districts[\"DISTRICT\"].unique(), random_districts))\n",
    "all_districts[\"SHUFFLED\"] = all_districts[\"DISTRICT\"].apply(lambda x: shuffle_dict[x])"
   ]
  },
  {
   "cell_type": "code",
   "execution_count": 55,
   "metadata": {},
   "outputs": [
    {
     "name": "stdout",
     "output_type": "stream",
     "text": [
      "1316470\n"
     ]
    },
    {
     "data": {
      "text/html": [
       "<div>\n",
       "<style scoped>\n",
       "    .dataframe tbody tr th:only-of-type {\n",
       "        vertical-align: middle;\n",
       "    }\n",
       "\n",
       "    .dataframe tbody tr th {\n",
       "        vertical-align: top;\n",
       "    }\n",
       "\n",
       "    .dataframe thead th {\n",
       "        text-align: right;\n",
       "    }\n",
       "</style>\n",
       "<table border=\"1\" class=\"dataframe\">\n",
       "  <thead>\n",
       "    <tr style=\"text-align: right;\">\n",
       "      <th></th>\n",
       "      <th>SHUFFLED</th>\n",
       "      <th>TOTPOP</th>\n",
       "      <th>pct_deviation</th>\n",
       "    </tr>\n",
       "  </thead>\n",
       "  <tbody>\n",
       "    <tr>\n",
       "      <th>0</th>\n",
       "      <td>0.0</td>\n",
       "      <td>653674</td>\n",
       "      <td>-0.006929</td>\n",
       "    </tr>\n",
       "    <tr>\n",
       "      <th>1</th>\n",
       "      <td>1.0</td>\n",
       "      <td>662796</td>\n",
       "      <td>0.006929</td>\n",
       "    </tr>\n",
       "  </tbody>\n",
       "</table>\n",
       "</div>"
      ],
      "text/plain": [
       "   SHUFFLED  TOTPOP  pct_deviation\n",
       "0       0.0  653674      -0.006929\n",
       "1       1.0  662796       0.006929"
      ]
     },
     "execution_count": 55,
     "metadata": {},
     "output_type": "execute_result"
    }
   ],
   "source": [
    "print(all_districts.groupby(\"SHUFFLED\").sum()[pop].sum())\n",
    "pop_summary = all_districts.groupby(\"SHUFFLED\").sum()[pop].reset_index()\n",
    "pop_summary['pct_deviation'] = (pop_summary[pop] - (pop_summary[pop].sum()/n_districts))/(pop_summary[pop].sum()/n_districts)\n",
    "pop_summary"
   ]
  },
  {
   "cell_type": "code",
   "execution_count": 56,
   "metadata": {},
   "outputs": [
    {
     "data": {
      "image/png": "[encoded data removed]",
      "text/plain": [
       "<Figure size 504x504 with 1 Axes>"
      ]
     },
     "metadata": {
      "needs_background": "light"
     },
     "output_type": "display_data"
    }
   ],
   "source": [
    "districts_df = all_districts.dissolve(by=\"SHUFFLED\")\n",
    "fig, ax = plt.subplots(1,1, figsize=(7,7))\n",
    "districts_df.plot(ax=ax,cmap=\"tab20b\")\n",
    "\n",
    "# scale_x = 1e6\n",
    "# scale_y = 1e6\n",
    "# ticks_x = ticker.FuncFormatter(lambda x, pos: '{0:g}'.format(x/scale_x))\n",
    "# ax.xaxis.set_major_formatter(ticks_x)\n",
    "\n",
    "# ticks_y = ticker.FuncFormatter(lambda x, pos: '{0:g}'.format(x/scale_y))\n",
    "# ax.yaxis.set_major_formatter(ticks_y)\n",
    "\n",
    "fig.savefig(os.path.join(output_dir, row[\"abbrev\"],f\"{row['abbrev']}_{run_name}_base.png\"))"
   ]
  },
  {
   "cell_type": "code",
   "execution_count": 57,
   "metadata": {},
   "outputs": [
    {
     "name": "stderr",
     "output_type": "stream",
     "text": [
      "c:\\Users\\yagne\\anaconda3\\envs\\common\\lib\\site-packages\\geopandas\\io\\file.py:362: FutureWarning: pandas.Int64Index is deprecated and will be removed from pandas in a future version. Use pandas.Index with the appropriate dtype instead.\n",
      "  pd.Int64Index,\n"
     ]
    }
   ],
   "source": [
    "all_districts[['geometry', pop, r_votes, d_votes, 'DISTRICT', 'SHUFFLED'] + split_columns].to_file(os.path.join(output_dir, row[\"abbrev\"],f\"{row['abbrev']}_{run_name}.shp\"))"
   ]
  },
  {
   "cell_type": "code",
   "execution_count": 58,
   "metadata": {},
   "outputs": [
    {
     "data": {
      "image/png": "[encoded data removed]",
      "text/plain": [
       "<Figure size 432x288 with 2 Axes>"
      ]
     },
     "metadata": {
      "needs_background": "light"
     },
     "output_type": "display_data"
    },
    {
     "data": {
      "image/png": "[encoded data removed]",
      "text/plain": [
       "<Figure size 432x288 with 2 Axes>"
      ]
     },
     "metadata": {
      "needs_background": "light"
     },
     "output_type": "display_data"
    }
   ],
   "source": [
    "for i in range(len(split_columns)+1):\n",
    "    redistricting.split_review(input_df=all_districts, split=i, split_cols=split_columns, d_votes=d_votes, r_votes=r_votes, pop=pop, plot_party=True, figsize=(6,4), save=os.path.join(output_dir, row[\"abbrev\"],f\"{row['abbrev']}_{run_name}_{i+1}.png\"))\n"
   ]
  },
  {
   "cell_type": "code",
   "execution_count": 59,
   "metadata": {},
   "outputs": [
    {
     "data": {
      "text/plain": [
       "DISTRICT\n",
       "0    214698\n",
       "1    199197\n",
       "Name: USH20D, dtype: int64"
      ]
     },
     "execution_count": 59,
     "metadata": {},
     "output_type": "execute_result"
    }
   ],
   "source": [
    "all_districts.groupby('DISTRICT')['USH20D'].sum()"
   ]
  },
  {
   "cell_type": "code",
   "execution_count": 60,
   "metadata": {},
   "outputs": [
    {
     "data": {
      "text/plain": [
       "DISTRICT\n",
       "0    182099\n",
       "1    171946\n",
       "Name: USH20R, dtype: int64"
      ]
     },
     "execution_count": 60,
     "metadata": {},
     "output_type": "execute_result"
    }
   ],
   "source": [
    "all_districts.groupby('DISTRICT')['USH20R'].sum()"
   ]
  },
  {
   "cell_type": "code",
   "execution_count": null,
   "metadata": {},
   "outputs": [],
   "source": []
  }
 ],
 "metadata": {
  "kernelspec": {
   "display_name": "common2",
   "language": "python",
   "name": "python3"
  },
  "language_info": {
   "codemirror_mode": {
    "name": "ipython",
    "version": 3
   },
   "file_extension": ".py",
   "mimetype": "text/x-python",
   "name": "python",
   "nbconvert_exporter": "python",
   "pygments_lexer": "ipython3",
   "version": "3.9.12"
  },
  "orig_nbformat": 4,
  "vscode": {
   "interpreter": {
    "hash": "1edbf63f4230692d59fe09481bfe64ca190252b066d478e32a85720335436349"
   }
  }
 },
 "nbformat": 4,
 "nbformat_minor": 2
}
